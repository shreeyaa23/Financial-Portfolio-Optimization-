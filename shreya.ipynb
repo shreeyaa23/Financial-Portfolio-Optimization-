{
  "nbformat": 4,
  "nbformat_minor": 0,
  "metadata": {
    "colab": {
      "provenance": []
    },
    "kernelspec": {
      "name": "python3",
      "display_name": "Python 3"
    },
    "language_info": {
      "name": "python"
    }
  },
  "cells": [
    {
      "cell_type": "code",
      "execution_count": null,
      "metadata": {
        "id": "bQG_kVkyCzjB"
      },
      "outputs": [],
      "source": [
        "# Install dependencies\n",
        "!pip install -q amplpy ampltools"
      ]
    },
    {
      "cell_type": "code",
      "source": [
        "# Google Colab & AMPL integration\n",
        "MODULES, LICENSE_UUID = [\"coin\", 'gurobi', \"cplex\", \"highs\", \"gokestrel\"], \"42fc7eb6-69aa-445d-b655-3ad24d836541\"\n",
        "from amplpy import tools\n",
        "from ampltools import cloud_platform_name, ampl_notebook, register_magics\n",
        "\n",
        "# instantiate AMPL object and register magics\n",
        "if cloud_platform_name() is None:\n",
        "    ampl = AMPL() # Use local installation of AMPL\n",
        "else:\n",
        "    ampl = tools.ampl_notebook(modules=MODULES, license_uuid=LICENSE_UUID, g=globals())\n",
        "\n",
        "register_magics(ampl_object=ampl)"
      ],
      "metadata": {
        "colab": {
          "base_uri": "https://localhost:8080/"
        },
        "id": "zYsHlULoDgUb",
        "outputId": "1ea794c9-9167-478a-eee2-f746e6851776"
      },
      "execution_count": null,
      "outputs": [
        {
          "output_type": "stream",
          "name": "stdout",
          "text": [
            "Licensed to Bundle #6741.7193 expiring 20241231: INFO 645 Prescriptive Analytics, Prof. Paul Brooks, Virginia Commonwealth University.\n"
          ]
        }
      ]
    },
    {
      "cell_type": "code",
      "source": [
        "ampl.eval('''\n",
        "reset;\n",
        "\n",
        "# Define sets\n",
        "set FundTypes;  # Set of different types of funds\n",
        "\n",
        "# Define parameters\n",
        "param maxAlloc {FundTypes};  # Maximum allocation in each fund\n",
        "param rateOfReturn {FundTypes};  # Return rate for each fund\n",
        "param riskFactor {FundTypes};  # Risk factor per $1000 invested for each fund\n",
        "param totalLimit;  # Total investment limit across all funds\n",
        "param maxRiskLevel;  # Maximum acceptable risk for the portfolio\n",
        "\n",
        "# Define decision variables\n",
        "var Allocation {FundTypes} >= 0;  # Allocation amount in each fund type\n",
        "\n",
        "# Objective function: Maximize total return\n",
        "maximize PortfolioReturn:\n",
        "    sum {f in FundTypes} rateOfReturn[f] * Allocation[f];\n",
        "\n",
        "# Constraints\n",
        "subject to BudgetConstraint:\n",
        "    sum {f in FundTypes} Allocation[f] <= totalLimit;\n",
        "\n",
        "subject to FundLimits {f in FundTypes}:\n",
        "    Allocation[f] <= maxAlloc[f];\n",
        "\n",
        "subject to RiskTolerance:\n",
        "    sum {f in FundTypes} (riskFactor[f] * (Allocation[f] / 1000)) <= maxRiskLevel;\n",
        "''')\n"
      ],
      "metadata": {
        "id": "N9aqDRbntBX9"
      },
      "execution_count": null,
      "outputs": []
    },
    {
      "cell_type": "code",
      "source": [
        "# Define the set of funds\n",
        "ampl.set['FundTypes'] = ['Internet', 'BlueChip']\n",
        "\n",
        "# Parameters for maximum investment limits, return rates, and risk ratings\n",
        "ampl.param['maxAlloc'] = {'Internet': 35000, 'BlueChip': 50000}\n",
        "ampl.param['rateOfReturn'] = {'Internet': 0.12, 'BlueChip': 0.09}\n",
        "ampl.param['riskFactor'] = {'Internet': 6, 'BlueChip': 4}\n",
        "\n",
        "# Overall investment and risk tolerance limits\n",
        "ampl.param['totalLimit'] = 50000\n",
        "ampl.param['maxRiskLevel'] = 240\n",
        "ampl.eval('''expand;''')\n"
      ],
      "metadata": {
        "colab": {
          "base_uri": "https://localhost:8080/"
        },
        "id": "ge7PNTazuo74",
        "outputId": "201c5fca-73cb-4deb-d6f7-3d8fadf2a379"
      },
      "execution_count": null,
      "outputs": [
        {
          "output_type": "stream",
          "name": "stdout",
          "text": [
            "maximize PortfolioReturn:\n",
            "\t0.12*Allocation['Internet'] + 0.09*Allocation['BlueChip'];\n",
            "\n",
            "subject to BudgetConstraint:\n",
            "\tAllocation['Internet'] + Allocation['BlueChip'] <= 50000;\n",
            "\n",
            "subject to FundLimits['Internet']:\n",
            "\tAllocation['Internet'] <= 35000;\n",
            "\n",
            "subject to FundLimits['BlueChip']:\n",
            "\tAllocation['BlueChip'] <= 50000;\n",
            "\n",
            "subject to RiskTolerance:\n",
            "\t0.006*Allocation['Internet'] + 0.004*Allocation['BlueChip'] <= 240;\n",
            "\n"
          ]
        }
      ]
    },
    {
      "cell_type": "code",
      "source": [
        "ampl.setOption('solver', 'cbc')\n",
        "ampl.solve()"
      ],
      "metadata": {
        "colab": {
          "base_uri": "https://localhost:8080/"
        },
        "id": "zbPC9j4Quo_O",
        "outputId": "525711e2-1285-4820-8544-996771b5a8bd"
      },
      "execution_count": null,
      "outputs": [
        {
          "output_type": "stream",
          "name": "stdout",
          "text": [
            "cbc 2.10.10: \b\b\b\b\b\b\b\b\b\b\b\b\bcbc 2.10.10: optimal solution; objective 5100\n",
            "0 simplex iterations\n"
          ]
        }
      ]
    },
    {
      "cell_type": "code",
      "source": [
        "# Print results\n",
        "# Assuming 'PortfolioReturn' is the name of the objective function and 'Allocation' is the decision variable array\n",
        "\n",
        "# First, solve the model\n",
        "ampl.solve()\n",
        "\n",
        "# Retrieve and print the total return objective value\n",
        "obj = ampl.getObjective('PortfolioReturn')\n",
        "print(\"\\nTotal expected annual return is: $\", obj.value(), \"\\n\")\n",
        "\n",
        "# Print the allocation amounts in each fund vertically\n",
        "print(\"Investment amounts :\")\n",
        "ampl.display('Allocation')\n"
      ],
      "metadata": {
        "colab": {
          "base_uri": "https://localhost:8080/"
        },
        "id": "_fSw3S0ovC07",
        "outputId": "456fdde6-f82d-46cd-f9d0-2aaad9fcd431"
      },
      "execution_count": null,
      "outputs": [
        {
          "output_type": "stream",
          "name": "stdout",
          "text": [
            "cbc 2.10.10: \b\b\b\b\b\b\b\b\b\b\b\b\bcbc 2.10.10: optimal solution; objective 5100\n",
            "0 simplex iterations\n",
            "\n",
            "Total expected annual return is: $ 5100.0 \n",
            "\n",
            "Investment amounts :\n",
            "Allocation [*] :=\n",
            "BlueChip  30000\n",
            "Internet  20000\n",
            ";\n",
            "\n"
          ]
        }
      ]
    }
  ]
}